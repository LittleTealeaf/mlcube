{
 "cells": [
  {
   "cell_type": "code",
   "execution_count": null,
   "metadata": {},
   "outputs": [],
   "source": [
    "import numpy as np\n",
    "import pandas as pd\n",
    "from git import Repo\n",
    "import json\n",
    "from matplotlib import pyplot as plt\n",
    "\n",
    "local_repo = Repo(path=\".\")\n",
    "branch = local_repo.active_branch.name\n",
    "agent = branch\n",
    "\n",
    "with open(f'./agents/{agent}/epochs.json') as file:\n",
    "  epochs = json.load(file)\n",
    "with open(f'./agents/{agent}/evaluations.json') as file:\n",
    "  evaluations = json.load(file)"
   ]
  },
  {
   "cell_type": "code",
   "execution_count": null,
   "metadata": {},
   "outputs": [],
   "source": [
    "x = [i['epoch'] for i in epochs][:]\n",
    "y_loss = [i['average_loss']**0.5 for i in epochs if i['epoch'] in x]\n",
    "y_rewards = [i['average_reward'] for i in epochs if i['epoch'] in x]\n",
    "\n",
    "x_reward_mean = []\n",
    "y_reward_mean = []\n",
    "target_interval = 250\n",
    "\n",
    "for i in range(0,len(epochs),target_interval):\n",
    "  data = epochs[i:i+target_interval]\n",
    "  reward = [i['average_reward'] for i in data]\n",
    "  x_reward_mean.append(i)\n",
    "  y_reward_mean.append(sum(reward) / len(reward))\n",
    "\n",
    "figure, axis = plt.subplots(3,1)\n",
    "figure.set_figheight(10)\n",
    "figure.set_figwidth(30)\n",
    "\n",
    "axis[0].set_title(\"Average Loss\")\n",
    "axis[0].plot(x,y_loss)\n",
    "\n",
    "axis[1].set_title(\"Average Reward\")\n",
    "axis[1].plot(x,y_rewards)\n",
    "\n",
    "\n",
    "axis[2].set_title(\"Average Mean Reward\")\n",
    "axis[2].plot(x_reward_mean,y_reward_mean)\n",
    "\n",
    "\n",
    "figure.tight_layout()"
   ]
  },
  {
   "cell_type": "code",
   "execution_count": null,
   "metadata": {},
   "outputs": [],
   "source": [
    "epochs_x = [x['epoch'] for x in evaluations]\n",
    "max_rewards = [x['reward_max'] for x in evaluations if x['epoch'] in epochs_x]\n",
    "final_rewards = [x['reward_final'] for x in evaluations if x['epoch'] in epochs_x]\n",
    "moves = [x['count'] for x in evaluations if x['epoch'] in epochs_x]\n",
    "\n",
    "figure, axis = plt.subplots(3,1)\n",
    "figure.set_figheight(5)\n",
    "figure.set_figwidth(20)\n",
    "\n",
    "axis[0].set_title(\"Max Reward\")\n",
    "axis[0].plot(epochs_x,max_rewards)\n",
    "\n",
    "axis[1].set_title(\"Final Reward\")\n",
    "axis[1].plot(epochs_x,final_rewards)\n",
    "\n",
    "axis[2].set_title(\"Move Count\")\n",
    "axis[2].plot(epochs_x,moves)\n",
    "\n",
    "\n",
    "figure.tight_layout()"
   ]
  }
 ],
 "metadata": {
  "kernelspec": {
   "display_name": "Python 3.10.6 ('directml')",
   "language": "python",
   "name": "python3"
  },
  "language_info": {
   "codemirror_mode": {
    "name": "ipython",
    "version": 3
   },
   "file_extension": ".py",
   "mimetype": "text/x-python",
   "name": "python",
   "nbconvert_exporter": "python",
   "pygments_lexer": "ipython3",
   "version": "3.10.6"
  },
  "orig_nbformat": 4,
  "vscode": {
   "interpreter": {
    "hash": "ef30f5887963562b2f40e3648720e631724a6ad3acdde206431574f5907bd447"
   }
  }
 },
 "nbformat": 4,
 "nbformat_minor": 2
}
