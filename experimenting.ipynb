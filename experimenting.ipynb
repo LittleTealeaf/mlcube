{
 "cells": [
  {
   "cell_type": "markdown",
   "metadata": {},
   "source": [
    "Following Tutorial: [Python Tensorflow Tutorial](https://adventuresinmachinelearning.com/python-tensorflow-tutorial/)"
   ]
  },
  {
   "cell_type": "code",
   "execution_count": 1,
   "metadata": {},
   "outputs": [],
   "source": [
    "import tensorflow as tf\n",
    "import numpy as np"
   ]
  },
  {
   "cell_type": "code",
   "execution_count": 2,
   "metadata": {},
   "outputs": [],
   "source": [
    "from tensorflow.keras.datasets import mnist\n",
    "(x_train, y_train), (x_test, y_test) = mnist.load_data();"
   ]
  },
  {
   "cell_type": "code",
   "execution_count": 3,
   "metadata": {},
   "outputs": [],
   "source": [
    "def get_batch(x_data, y_data, batch_size):\n",
    "    idxs = np.random.randint(0, len(y_data), batch_size)\n",
    "    return x_data[idxs,:,:], y_data[idxs]"
   ]
  },
  {
   "cell_type": "code",
   "execution_count": 4,
   "metadata": {},
   "outputs": [],
   "source": [
    "# Python optimisation variables\n",
    "epochs = 10\n",
    "batch_size = 100\n",
    "# normalize the input images by dividing by 255.0\n",
    "x_train = x_train / 255.0\n",
    "x_test = x_test / 255.0\n",
    "# convert x_test to tensor to pass through model (train data will be converted to\n",
    "# tensors on the fly)\n",
    "x_test = tf.Variable(x_test)"
   ]
  },
  {
   "cell_type": "code",
   "execution_count": 5,
   "metadata": {},
   "outputs": [],
   "source": [
    "W1 = tf.Variable(tf.random.normal([784, 300], stddev=0.03), name='W1')\n",
    "b1 = tf.Variable(tf.random.normal([300]), name='b1')\n",
    "\n",
    "W2 = tf.Variable(tf.random.normal([300, 10], stddev=0.03), name='W2')\n",
    "b2 = tf.Variable(tf.random.normal([10]), name='b2')"
   ]
  },
  {
   "cell_type": "code",
   "execution_count": 6,
   "metadata": {},
   "outputs": [],
   "source": [
    "def nn_model(x_input, W1, b1, W2, b2):\n",
    "    # Flatten image to single array\n",
    "    x_input = tf.reshape(x_input,(x_input.shape[0],-1))\n",
    "    # Perform first feed-forward\n",
    "    x = tf.add(tf.matmul(tf.cast(x_input,tf.float32),W1),b1)\n",
    "    # Squishification magic\n",
    "    x = tf.nn.relu(x)\n",
    "    # Second feed forward\n",
    "    logits = tf.add(tf.matmul(x,W2),b2)\n",
    "    return logits"
   ]
  },
  {
   "cell_type": "code",
   "execution_count": 7,
   "metadata": {},
   "outputs": [],
   "source": [
    "def loss_fn(logits, labels):\n",
    "    cross_entropy = tf.reduce_mean(tf.nn.softmax_cross_entropy_with_logits(labels=labels,logits=logits))\n",
    "    return cross_entropy"
   ]
  },
  {
   "cell_type": "code",
   "execution_count": 8,
   "metadata": {},
   "outputs": [],
   "source": [
    "optimizer = tf.keras.optimizers.Adam()"
   ]
  },
  {
   "cell_type": "code",
   "execution_count": 9,
   "metadata": {},
   "outputs": [
    {
     "name": "stdout",
     "output_type": "stream",
     "text": [
      "Epoch: 1, loss=0.375, test set      accuracy=94.130%\n",
      "Epoch: 2, loss=0.157, test set      accuracy=95.990%\n",
      "Epoch: 3, loss=0.107, test set      accuracy=96.520%\n",
      "Epoch: 4, loss=0.081, test set      accuracy=97.010%\n",
      "Epoch: 5, loss=0.063, test set      accuracy=97.510%\n",
      "Epoch: 6, loss=0.048, test set      accuracy=97.510%\n",
      "Epoch: 7, loss=0.040, test set      accuracy=97.630%\n",
      "Epoch: 8, loss=0.030, test set      accuracy=97.770%\n",
      "Epoch: 9, loss=0.024, test set      accuracy=97.740%\n",
      "Epoch: 10, loss=0.020, test set      accuracy=97.860%\n",
      "\n",
      "Training complete!\n"
     ]
    }
   ],
   "source": [
    "total_batch = int(len(y_train) / batch_size)\n",
    "for epoch in range(epochs):\n",
    "    avg_loss = 0\n",
    "    for i in range(total_batch):\n",
    "        batch_x, batch_y = get_batch(x_train,y_train,batch_size=batch_size)\n",
    "        batch_x = tf.Variable(batch_x)\n",
    "        batch_y = tf.Variable(batch_y)\n",
    "        batch_y = tf.one_hot(batch_y,10)\n",
    "        with tf.GradientTape() as tape:\n",
    "            logits = nn_model(batch_x, W1, b1, W2, b2)\n",
    "            loss = loss_fn(logits, batch_y)\n",
    "            gradients = tape.gradient(loss,[W1,b1,W2,b2])\n",
    "            optimizer.apply_gradients(zip(gradients,[W1,b1,W2,b2]))\n",
    "            avg_loss += loss / total_batch\n",
    "    test_logits = nn_model(x_test,W1,b1,W2,b2)\n",
    "    max_idxs = tf.argmax(test_logits,axis=1)\n",
    "    test_acc = np.sum(max_idxs.numpy() == y_test) / len(y_test)\n",
    "    print(f\"Epoch: {epoch + 1}, loss={avg_loss:.3f}, test set      accuracy={test_acc*100:.3f}%\")\n",
    "print(\"\\nTraining complete!\")\n"
   ]
  }
 ],
 "metadata": {
  "kernelspec": {
   "display_name": "Python 3.10.4 ('mlcube')",
   "language": "python",
   "name": "python3"
  },
  "language_info": {
   "codemirror_mode": {
    "name": "ipython",
    "version": 3
   },
   "file_extension": ".py",
   "mimetype": "text/x-python",
   "name": "python",
   "nbconvert_exporter": "python",
   "pygments_lexer": "ipython3",
   "version": "3.10.4"
  },
  "orig_nbformat": 4,
  "vscode": {
   "interpreter": {
    "hash": "7641580b910c9b01375a0fd9701e80f509c3f72b49a4ffa822590e7a07fce613"
   }
  }
 },
 "nbformat": 4,
 "nbformat_minor": 2
}
