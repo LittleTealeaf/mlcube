{
 "cells": [
  {
   "cell_type": "markdown",
   "metadata": {},
   "source": [
    "# Environment Setup\n"
   ]
  },
  {
   "cell_type": "markdown",
   "metadata": {},
   "source": [
    "## Import Modules"
   ]
  },
  {
   "cell_type": "code",
   "execution_count": 1,
   "metadata": {},
   "outputs": [],
   "source": [
    "import numpy as np\n",
    "import tensorflow as tf\n",
    "from random import Random\n",
    "from functools import reduce\n",
    "from multiprocessing import Process, Pool"
   ]
  },
  {
   "cell_type": "markdown",
   "metadata": {},
   "source": [
    "## Move Methods"
   ]
  },
  {
   "cell_type": "code",
   "execution_count": 2,
   "metadata": {},
   "outputs": [
    {
     "data": {
      "text/plain": [
       "'List of possible moves possible on a rubiks cube'"
      ]
     },
     "execution_count": 2,
     "metadata": {},
     "output_type": "execute_result"
    }
   ],
   "source": [
    "class Move:\n",
    "    \"A collection of valid moves that can be applied to a rubiks cube\"\n",
    "    def build(moves: list[list[int]]) -> np.ndarray[(54,54),np.int8]:\n",
    "        \"Builds a permutation array based on the loop cycles specified in moves\"\n",
    "        m = np.identity(9 * 6, dtype=np.int8)\n",
    "        for loop in moves:\n",
    "            first = np.copy(m[loop[0]])\n",
    "            for i in range(len(loop) - 1):\n",
    "                m[loop[i]] = m[loop[i + 1]]\n",
    "            m[loop[-1]] = first\n",
    "        return m\n",
    "    def two(moves) -> np.ndarray[(54,54),np.int8]:\n",
    "        \"Builds a permutation array by applying a specified permutation array twice\"\n",
    "        return moves @ moves\n",
    "    def prime(moves) -> np.ndarray[(54,54),np.int8]:\n",
    "        \"Builds a permutation array by taking the transpose of a specified permutation array\"\n",
    "        return moves.T\n",
    "\n",
    "    R: np.ndarray[(54,54),np.int8] = build(\n",
    "        [\n",
    "            [20, 2, 42, 47],\n",
    "            [23, 5, 39, 50],\n",
    "            [26, 8, 36, 53],\n",
    "            [27, 29, 35, 33],\n",
    "            [28, 32, 34, 30],\n",
    "        ]\n",
    "    )\n",
    "    R2: np.ndarray[(54,54),np.int8] = two(R)\n",
    "    RP: np.ndarray[(54,54),np.int8] = prime(R)\n",
    "    U: np.ndarray[(54,54),np.int8] = build(\n",
    "        [\n",
    "            [20, 11, 38, 29],\n",
    "            [19, 10, 37, 28],\n",
    "            [18, 9, 36, 27],\n",
    "            [8, 6, 0, 2],\n",
    "            [7, 3, 1, 5],\n",
    "        ]\n",
    "    )\n",
    "    U2: np.ndarray[(54,54),np.int8] = two(U)\n",
    "    UP: np.ndarray[(54,54),np.int8] = prime(U)\n",
    "    L: np.ndarray[(54,54),np.int8] = build(\n",
    "        [\n",
    "            [18, 45, 44, 0],\n",
    "            [21, 48, 41, 3],\n",
    "            [24, 51, 38, 6],\n",
    "            [11, 17, 15, 9],\n",
    "            [14, 16, 12, 10],\n",
    "        ]\n",
    "    )\n",
    "    L2: np.ndarray[(54,54),np.int8] = two(L)\n",
    "    LP: np.ndarray[(54,54),np.int8] = prime(L)\n",
    "    D: np.ndarray[(54,54),np.int8] = build(\n",
    "        [\n",
    "            [24, 33, 42, 15],\n",
    "            [25, 34, 43, 16],\n",
    "            [26, 35, 44, 17],\n",
    "            [45, 47, 53, 51],\n",
    "            [46, 50, 52, 48],\n",
    "        ]\n",
    "    )\n",
    "    D2: np.ndarray[(54,54),np.int8] = two(D)\n",
    "    DP: np.ndarray[(54,54),np.int8] = prime(D)\n",
    "    F: np.ndarray[(54,54),np.int8] = build(\n",
    "        [\n",
    "            [6, 27, 47, 17],\n",
    "            [7, 30, 46, 14],\n",
    "            [8, 33, 45, 11],\n",
    "            [18, 20, 26, 24],\n",
    "            [19, 23, 25, 21],\n",
    "        ]\n",
    "    )\n",
    "    FP: np.ndarray[(54,54),np.int8] = prime(F)\n",
    "    F2: np.ndarray[(54,54),np.int8] = two(F)\n",
    "    B: np.ndarray[(54,54),np.int8] = build(\n",
    "        [\n",
    "            [36, 38, 44, 42],\n",
    "            [37, 41, 43, 39],\n",
    "            [29, 0, 15, 53],\n",
    "            [32, 1, 12, 52],\n",
    "            [35, 2, 9, 51],\n",
    "        ]\n",
    "    )\n",
    "    BP: np.ndarray[(54,54),np.int8] = prime(B)\n",
    "    B2: np.ndarray[(54,54),np.int8] = two(B)\n",
    "\n",
    "MOVES = [Move.R, Move.RP, Move.R2, Move.B, Move.BP, Move.B2, Move.F, Move.FP, Move.F2, Move.D, Move.D2, Move.DP, Move.L, Move.LP, Move.L2, Move.U, Move.U2, Move.UP]\n",
    "\"List of possible moves possible on a rubiks cube\""
   ]
  },
  {
   "cell_type": "markdown",
   "metadata": {},
   "source": [
    "## The Cube Environment"
   ]
  },
  {
   "cell_type": "code",
   "execution_count": 3,
   "metadata": {},
   "outputs": [],
   "source": [
    "def new_cube():\n",
    "    state = np.zeros((9 * 6), dtype=np.int8)\n",
    "    for i in range(state.size):\n",
    "        state[i] = i / 9\n",
    "    return state\n",
    "\n",
    "def apply_move(state,move):\n",
    "    return state @ move\n",
    "\n",
    "def scramble(state: np.ndarray,count: int):\n",
    "    random = Random()\n",
    "    return state @ reduce(lambda a, b: a @ b, [random.choice(MOVES) for i in range(count)])"
   ]
  },
  {
   "cell_type": "markdown",
   "metadata": {},
   "source": [
    "# Machine Learning Setup\n"
   ]
  },
  {
   "cell_type": "markdown",
   "metadata": {},
   "source": [
    "## Converting State to Vector\n",
    "In order to make an accurate network, we will need to convert the cube's state array to a longer array to make it clearer to the network what color is where"
   ]
  },
  {
   "cell_type": "code",
   "execution_count": 4,
   "metadata": {},
   "outputs": [],
   "source": [
    "def state_to_vector(state):\n",
    "    vector = np.zeros((9 * 6 * 6,1),dtype=np.float32)\n",
    "    for i in range(9 * 6):\n",
    "        color = state[i]\n",
    "        vector[i * 6 + color] = 1\n",
    "    return vector.T\n",
    "        "
   ]
  },
  {
   "cell_type": "markdown",
   "metadata": {},
   "source": [
    "## The Neural Network"
   ]
  },
  {
   "cell_type": "code",
   "execution_count": 5,
   "metadata": {},
   "outputs": [],
   "source": [
    "def random_network(sizes: list[int]) -> list[tuple[(tf.Variable,tf.Variable)]]:\n",
    "    values = []\n",
    "    for i in range(len(sizes)):\n",
    "        size = sizes[i]\n",
    "        prev_size = 9 * 6 * 6\n",
    "        if i > 0:\n",
    "            prev_size = sizes[i-1]\n",
    "        weights = tf.Variable(tf.random.normal([prev_size, size],stddev=0.03),name=f'W{i+1}')\n",
    "        constants = tf.Variable(tf.random.normal([size]),name=f'b{i+1}')\n",
    "        values.append((weights,constants))\n",
    "    return values\n",
    "\n",
    "\n",
    "def feed_network(state,network: list[tuple[(tf.Variable,tf.Variable)]]):\n",
    "    x = tf.cast(state,tf.float32)\n",
    "    for i in range(len(network)):\n",
    "        W, b = network[i]\n",
    "        if i > 0:\n",
    "            x = tf.nn.relu(x)\n",
    "        x = tf.add(tf.matmul(x,W),b)\n",
    "    return x\n",
    "\n",
    "def copy_network(network: list[tuple[(tf.Variable,tf.Variable)]]):\n",
    "    copy = []\n",
    "    for layer in network:\n",
    "        W,b = layer\n",
    "        copy.append((np.copy(W),np.copy(b)))\n",
    "    return copy"
   ]
  },
  {
   "cell_type": "markdown",
   "metadata": {},
   "source": [
    "## Replay Database"
   ]
  },
  {
   "cell_type": "code",
   "execution_count": 6,
   "metadata": {},
   "outputs": [
    {
     "name": "stdout",
     "output_type": "stream",
     "text": [
      "10\n"
     ]
    },
    {
     "ename": "KeyboardInterrupt",
     "evalue": "",
     "output_type": "error",
     "traceback": [
      "\u001b[1;31m---------------------------------------------------------------------------\u001b[0m",
      "\u001b[1;31mKeyboardInterrupt\u001b[0m                         Traceback (most recent call last)",
      "\u001b[1;32mf:\\Github\\mlcube\\notebook.ipynb Cell 14\u001b[0m in \u001b[0;36m<cell line: 14>\u001b[1;34m()\u001b[0m\n\u001b[0;32m     <a href='vscode-notebook-cell:/f%3A/Github/mlcube/notebook.ipynb#X22sZmlsZQ%3D%3D?line=10'>11</a>\u001b[0m     \u001b[39mreturn\u001b[39;00m result\n\u001b[0;32m     <a href='vscode-notebook-cell:/f%3A/Github/mlcube/notebook.ipynb#X22sZmlsZQ%3D%3D?line=13'>14</a>\u001b[0m \u001b[39mif\u001b[39;00m \u001b[39m__name__\u001b[39m \u001b[39m==\u001b[39m \u001b[39m'\u001b[39m\u001b[39m__main__\u001b[39m\u001b[39m'\u001b[39m:\n\u001b[1;32m---> <a href='vscode-notebook-cell:/f%3A/Github/mlcube/notebook.ipynb#X22sZmlsZQ%3D%3D?line=14'>15</a>\u001b[0m     run_replay(random_network([\u001b[39m100\u001b[39;49m,\u001b[39m50\u001b[39;49m,\u001b[39m1\u001b[39;49m]),\u001b[39m10\u001b[39;49m)\n",
      "\u001b[1;32mf:\\Github\\mlcube\\notebook.ipynb Cell 14\u001b[0m in \u001b[0;36mrun_replay\u001b[1;34m(network, replay_count)\u001b[0m\n\u001b[0;32m      <a href='vscode-notebook-cell:/f%3A/Github/mlcube/notebook.ipynb#X22sZmlsZQ%3D%3D?line=6'>7</a>\u001b[0m pool \u001b[39m=\u001b[39m Pool(\u001b[39m5\u001b[39m)\n\u001b[0;32m      <a href='vscode-notebook-cell:/f%3A/Github/mlcube/notebook.ipynb#X22sZmlsZQ%3D%3D?line=7'>8</a>\u001b[0m processes \u001b[39m=\u001b[39m [pool\u001b[39m.\u001b[39mapply_async(create_replay_entry,(network,)) \u001b[39mfor\u001b[39;00m i \u001b[39min\u001b[39;00m \u001b[39mrange\u001b[39m(replay_count)]\n\u001b[1;32m----> <a href='vscode-notebook-cell:/f%3A/Github/mlcube/notebook.ipynb#X22sZmlsZQ%3D%3D?line=8'>9</a>\u001b[0m result \u001b[39m=\u001b[39m [p\u001b[39m.\u001b[39mget() \u001b[39mfor\u001b[39;00m p \u001b[39min\u001b[39;00m processes]\n\u001b[0;32m     <a href='vscode-notebook-cell:/f%3A/Github/mlcube/notebook.ipynb#X22sZmlsZQ%3D%3D?line=10'>11</a>\u001b[0m \u001b[39mreturn\u001b[39;00m result\n",
      "\u001b[1;32mf:\\Github\\mlcube\\notebook.ipynb Cell 14\u001b[0m in \u001b[0;36m<listcomp>\u001b[1;34m(.0)\u001b[0m\n\u001b[0;32m      <a href='vscode-notebook-cell:/f%3A/Github/mlcube/notebook.ipynb#X22sZmlsZQ%3D%3D?line=6'>7</a>\u001b[0m pool \u001b[39m=\u001b[39m Pool(\u001b[39m5\u001b[39m)\n\u001b[0;32m      <a href='vscode-notebook-cell:/f%3A/Github/mlcube/notebook.ipynb#X22sZmlsZQ%3D%3D?line=7'>8</a>\u001b[0m processes \u001b[39m=\u001b[39m [pool\u001b[39m.\u001b[39mapply_async(create_replay_entry,(network,)) \u001b[39mfor\u001b[39;00m i \u001b[39min\u001b[39;00m \u001b[39mrange\u001b[39m(replay_count)]\n\u001b[1;32m----> <a href='vscode-notebook-cell:/f%3A/Github/mlcube/notebook.ipynb#X22sZmlsZQ%3D%3D?line=8'>9</a>\u001b[0m result \u001b[39m=\u001b[39m [p\u001b[39m.\u001b[39;49mget() \u001b[39mfor\u001b[39;00m p \u001b[39min\u001b[39;00m processes]\n\u001b[0;32m     <a href='vscode-notebook-cell:/f%3A/Github/mlcube/notebook.ipynb#X22sZmlsZQ%3D%3D?line=10'>11</a>\u001b[0m \u001b[39mreturn\u001b[39;00m result\n",
      "File \u001b[1;32mc:\\Users\\Littl\\anaconda3\\envs\\mlcube\\lib\\multiprocessing\\pool.py:765\u001b[0m, in \u001b[0;36mApplyResult.get\u001b[1;34m(self, timeout)\u001b[0m\n\u001b[0;32m    764\u001b[0m \u001b[39mdef\u001b[39;00m \u001b[39mget\u001b[39m(\u001b[39mself\u001b[39m, timeout\u001b[39m=\u001b[39m\u001b[39mNone\u001b[39;00m):\n\u001b[1;32m--> 765\u001b[0m     \u001b[39mself\u001b[39;49m\u001b[39m.\u001b[39;49mwait(timeout)\n\u001b[0;32m    766\u001b[0m     \u001b[39mif\u001b[39;00m \u001b[39mnot\u001b[39;00m \u001b[39mself\u001b[39m\u001b[39m.\u001b[39mready():\n\u001b[0;32m    767\u001b[0m         \u001b[39mraise\u001b[39;00m \u001b[39mTimeoutError\u001b[39;00m\n",
      "File \u001b[1;32mc:\\Users\\Littl\\anaconda3\\envs\\mlcube\\lib\\multiprocessing\\pool.py:762\u001b[0m, in \u001b[0;36mApplyResult.wait\u001b[1;34m(self, timeout)\u001b[0m\n\u001b[0;32m    761\u001b[0m \u001b[39mdef\u001b[39;00m \u001b[39mwait\u001b[39m(\u001b[39mself\u001b[39m, timeout\u001b[39m=\u001b[39m\u001b[39mNone\u001b[39;00m):\n\u001b[1;32m--> 762\u001b[0m     \u001b[39mself\u001b[39;49m\u001b[39m.\u001b[39;49m_event\u001b[39m.\u001b[39;49mwait(timeout)\n",
      "File \u001b[1;32mc:\\Users\\Littl\\anaconda3\\envs\\mlcube\\lib\\threading.py:600\u001b[0m, in \u001b[0;36mEvent.wait\u001b[1;34m(self, timeout)\u001b[0m\n\u001b[0;32m    598\u001b[0m signaled \u001b[39m=\u001b[39m \u001b[39mself\u001b[39m\u001b[39m.\u001b[39m_flag\n\u001b[0;32m    599\u001b[0m \u001b[39mif\u001b[39;00m \u001b[39mnot\u001b[39;00m signaled:\n\u001b[1;32m--> 600\u001b[0m     signaled \u001b[39m=\u001b[39m \u001b[39mself\u001b[39;49m\u001b[39m.\u001b[39;49m_cond\u001b[39m.\u001b[39;49mwait(timeout)\n\u001b[0;32m    601\u001b[0m \u001b[39mreturn\u001b[39;00m signaled\n",
      "File \u001b[1;32mc:\\Users\\Littl\\anaconda3\\envs\\mlcube\\lib\\threading.py:320\u001b[0m, in \u001b[0;36mCondition.wait\u001b[1;34m(self, timeout)\u001b[0m\n\u001b[0;32m    318\u001b[0m \u001b[39mtry\u001b[39;00m:    \u001b[39m# restore state no matter what (e.g., KeyboardInterrupt)\u001b[39;00m\n\u001b[0;32m    319\u001b[0m     \u001b[39mif\u001b[39;00m timeout \u001b[39mis\u001b[39;00m \u001b[39mNone\u001b[39;00m:\n\u001b[1;32m--> 320\u001b[0m         waiter\u001b[39m.\u001b[39;49macquire()\n\u001b[0;32m    321\u001b[0m         gotit \u001b[39m=\u001b[39m \u001b[39mTrue\u001b[39;00m\n\u001b[0;32m    322\u001b[0m     \u001b[39melse\u001b[39;00m:\n",
      "\u001b[1;31mKeyboardInterrupt\u001b[0m: "
     ]
    }
   ],
   "source": []
  }
 ],
 "metadata": {
  "kernelspec": {
   "display_name": "Python 3.10.4 ('mlcube')",
   "language": "python",
   "name": "python3"
  },
  "language_info": {
   "codemirror_mode": {
    "name": "ipython",
    "version": 3
   },
   "file_extension": ".py",
   "mimetype": "text/x-python",
   "name": "python",
   "nbconvert_exporter": "python",
   "pygments_lexer": "ipython3",
   "version": "3.10.4"
  },
  "orig_nbformat": 4,
  "vscode": {
   "interpreter": {
    "hash": "7641580b910c9b01375a0fd9701e80f509c3f72b49a4ffa822590e7a07fce613"
   }
  }
 },
 "nbformat": 4,
 "nbformat_minor": 2
}
