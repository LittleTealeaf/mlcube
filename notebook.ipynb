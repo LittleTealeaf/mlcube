{
 "cells": [
  {
   "cell_type": "markdown",
   "metadata": {},
   "source": [
    "# Environment Setup\n"
   ]
  },
  {
   "cell_type": "markdown",
   "metadata": {},
   "source": [
    "## Import Modules"
   ]
  },
  {
   "cell_type": "code",
   "execution_count": 1,
   "metadata": {},
   "outputs": [],
   "source": [
    "import numpy as np"
   ]
  },
  {
   "cell_type": "markdown",
   "metadata": {},
   "source": [
    "## Move Methods"
   ]
  },
  {
   "cell_type": "code",
   "execution_count": 2,
   "metadata": {},
   "outputs": [],
   "source": [
    "class Move:\n",
    "    def build(moves: list[list[int]]):\n",
    "        m = np.identity(9 * 6, dtype=np.int8)\n",
    "        for loop in moves:\n",
    "            first = np.copy(m[loop[0]])\n",
    "            for i in range(len(loop) - 1):\n",
    "                m[loop[i]] = m[loop[i + 1]]\n",
    "            m[loop[-1]] = first\n",
    "        return m\n",
    "    def two(moves) -> np.ndarray[(54,54),np.int8]:\n",
    "        return moves @ moves\n",
    "    def prime(moves) -> np.ndarray[(54,54),np.int8]:\n",
    "        return moves.T\n",
    "\n",
    "    R = build(\n",
    "        [\n",
    "            [20, 2, 42, 47],\n",
    "            [23, 5, 39, 50],\n",
    "            [26, 8, 36, 53],\n",
    "            [27, 29, 35, 33],\n",
    "            [28, 32, 34, 30],\n",
    "        ]\n",
    "    )\n",
    "    R2 = two(R)\n",
    "    RP = prime(R)\n",
    "    U = build(\n",
    "        [\n",
    "            [20, 11, 38, 29],\n",
    "            [19, 10, 37, 28],\n",
    "            [18, 9, 36, 27],\n",
    "            [8, 6, 0, 2],\n",
    "            [7, 3, 1, 5],\n",
    "        ]\n",
    "    )\n",
    "    U2 = two(U)\n",
    "    UP = prime(U)\n",
    "    L = build(\n",
    "        [\n",
    "            [18, 45, 44, 0],\n",
    "            [21, 48, 41, 3],\n",
    "            [24, 51, 38, 6],\n",
    "            [11, 17, 15, 9],\n",
    "            [14, 16, 12, 10],\n",
    "        ]\n",
    "    )\n",
    "    L2 = two(L)\n",
    "    LP = prime(L)\n",
    "    D = build(\n",
    "        [\n",
    "            [24, 33, 42, 15],\n",
    "            [25, 34, 43, 16],\n",
    "            [26, 35, 44, 17],\n",
    "            [45, 47, 53, 51],\n",
    "            [46, 50, 52, 48],\n",
    "        ]\n",
    "    )\n",
    "    D2 = two(D)\n",
    "    DP = prime(D)\n",
    "    F = build(\n",
    "        [\n",
    "            [6, 27, 47, 17],\n",
    "            [7, 30, 46, 14],\n",
    "            [8, 33, 45, 11],\n",
    "            [18, 20, 26, 24],\n",
    "            [19, 23, 25, 21],\n",
    "        ]\n",
    "    )\n",
    "    FP = prime(F)\n",
    "    F2 = two(F)\n",
    "    B = build(\n",
    "        [\n",
    "            [36, 38, 44, 42],\n",
    "            [37, 41, 43, 39],\n",
    "            [29, 0, 15, 53],\n",
    "            [32, 1, 12, 52],\n",
    "            [35, 2, 9, 51],\n",
    "        ]\n",
    "    )\n",
    "    BP = prime(B)\n",
    "    B2 = two(B)"
   ]
  },
  {
   "cell_type": "markdown",
   "metadata": {},
   "source": [
    "## The Cube Environment"
   ]
  },
  {
   "cell_type": "code",
   "execution_count": 3,
   "metadata": {},
   "outputs": [],
   "source": [
    "class Cube:\n",
    "    def __init__(self):\n",
    "        self.state = np.zeros((9 * 6), dtype=np.int8)\n",
    "        for i in range(self.state.size):\n",
    "            self.state[i] = i / 9\n",
    "\n",
    "    def apply(self,*move):\n",
    "        for i in move:\n",
    "            self.state = self.state @ i"
   ]
  }
 ],
 "metadata": {
  "kernelspec": {
   "display_name": "Python 3.9.12 ('base')",
   "language": "python",
   "name": "python3"
  },
  "language_info": {
   "codemirror_mode": {
    "name": "ipython",
    "version": 3
   },
   "file_extension": ".py",
   "mimetype": "text/x-python",
   "name": "python",
   "nbconvert_exporter": "python",
   "pygments_lexer": "ipython3",
   "version": "3.9.12"
  },
  "orig_nbformat": 4,
  "vscode": {
   "interpreter": {
    "hash": "a739c0ba9768ba13a49b67bbd89939051d256e1e512d550a4706c0b6ceae78c6"
   }
  }
 },
 "nbformat": 4,
 "nbformat_minor": 2
}
