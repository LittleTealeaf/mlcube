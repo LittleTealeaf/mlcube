{
 "cells": [
  {
   "cell_type": "markdown",
   "metadata": {},
   "source": [
    "# Environment Setup\n"
   ]
  },
  {
   "cell_type": "markdown",
   "metadata": {},
   "source": [
    "## Import Modules"
   ]
  },
  {
   "cell_type": "code",
   "execution_count": 9,
   "metadata": {},
   "outputs": [],
   "source": [
    "import numpy as np\n",
    "import tensorflow as tf\n",
    "from random import Random\n",
    "from functools import reduce"
   ]
  },
  {
   "cell_type": "markdown",
   "metadata": {},
   "source": [
    "## Move Methods"
   ]
  },
  {
   "cell_type": "code",
   "execution_count": 10,
   "metadata": {},
   "outputs": [
    {
     "data": {
      "text/plain": [
       "'List of possible moves possible on a rubiks cube'"
      ]
     },
     "execution_count": 10,
     "metadata": {},
     "output_type": "execute_result"
    }
   ],
   "source": [
    "class Move:\n",
    "    \"A collection of valid moves that can be applied to a rubiks cube\"\n",
    "    def build(moves: list[list[int]]) -> np.ndarray[(54,54),np.int8]:\n",
    "        \"Builds a permutation array based on the loop cycles specified in moves\"\n",
    "        m = np.identity(9 * 6, dtype=np.int8)\n",
    "        for loop in moves:\n",
    "            first = np.copy(m[loop[0]])\n",
    "            for i in range(len(loop) - 1):\n",
    "                m[loop[i]] = m[loop[i + 1]]\n",
    "            m[loop[-1]] = first\n",
    "        return m\n",
    "    def two(moves) -> np.ndarray[(54,54),np.int8]:\n",
    "        \"Builds a permutation array by applying a specified permutation array twice\"\n",
    "        return moves @ moves\n",
    "    def prime(moves) -> np.ndarray[(54,54),np.int8]:\n",
    "        \"Builds a permutation array by taking the transpose of a specified permutation array\"\n",
    "        return moves.T\n",
    "\n",
    "    R: np.ndarray[(54,54),np.int8] = build(\n",
    "        [\n",
    "            [20, 2, 42, 47],\n",
    "            [23, 5, 39, 50],\n",
    "            [26, 8, 36, 53],\n",
    "            [27, 29, 35, 33],\n",
    "            [28, 32, 34, 30],\n",
    "        ]\n",
    "    )\n",
    "    R2: np.ndarray[(54,54),np.int8] = two(R)\n",
    "    RP: np.ndarray[(54,54),np.int8] = prime(R)\n",
    "    U: np.ndarray[(54,54),np.int8] = build(\n",
    "        [\n",
    "            [20, 11, 38, 29],\n",
    "            [19, 10, 37, 28],\n",
    "            [18, 9, 36, 27],\n",
    "            [8, 6, 0, 2],\n",
    "            [7, 3, 1, 5],\n",
    "        ]\n",
    "    )\n",
    "    U2: np.ndarray[(54,54),np.int8] = two(U)\n",
    "    UP: np.ndarray[(54,54),np.int8] = prime(U)\n",
    "    L: np.ndarray[(54,54),np.int8] = build(\n",
    "        [\n",
    "            [18, 45, 44, 0],\n",
    "            [21, 48, 41, 3],\n",
    "            [24, 51, 38, 6],\n",
    "            [11, 17, 15, 9],\n",
    "            [14, 16, 12, 10],\n",
    "        ]\n",
    "    )\n",
    "    L2: np.ndarray[(54,54),np.int8] = two(L)\n",
    "    LP: np.ndarray[(54,54),np.int8] = prime(L)\n",
    "    D: np.ndarray[(54,54),np.int8] = build(\n",
    "        [\n",
    "            [24, 33, 42, 15],\n",
    "            [25, 34, 43, 16],\n",
    "            [26, 35, 44, 17],\n",
    "            [45, 47, 53, 51],\n",
    "            [46, 50, 52, 48],\n",
    "        ]\n",
    "    )\n",
    "    D2: np.ndarray[(54,54),np.int8] = two(D)\n",
    "    DP: np.ndarray[(54,54),np.int8] = prime(D)\n",
    "    F: np.ndarray[(54,54),np.int8] = build(\n",
    "        [\n",
    "            [6, 27, 47, 17],\n",
    "            [7, 30, 46, 14],\n",
    "            [8, 33, 45, 11],\n",
    "            [18, 20, 26, 24],\n",
    "            [19, 23, 25, 21],\n",
    "        ]\n",
    "    )\n",
    "    FP: np.ndarray[(54,54),np.int8] = prime(F)\n",
    "    F2: np.ndarray[(54,54),np.int8] = two(F)\n",
    "    B: np.ndarray[(54,54),np.int8] = build(\n",
    "        [\n",
    "            [36, 38, 44, 42],\n",
    "            [37, 41, 43, 39],\n",
    "            [29, 0, 15, 53],\n",
    "            [32, 1, 12, 52],\n",
    "            [35, 2, 9, 51],\n",
    "        ]\n",
    "    )\n",
    "    BP: np.ndarray[(54,54),np.int8] = prime(B)\n",
    "    B2: np.ndarray[(54,54),np.int8] = two(B)\n",
    "\n",
    "MOVES = [Move.R, Move.RP, Move.R2, Move.B, Move.BP, Move.B2, Move.F, Move.FP, Move.F2, Move.D, Move.D2, Move.DP, Move.L, Move.LP, Move.L2, Move.U, Move.U2, Move.UP]\n",
    "\"List of possible moves possible on a rubiks cube\""
   ]
  },
  {
   "cell_type": "markdown",
   "metadata": {},
   "source": [
    "## The Cube Environment"
   ]
  },
  {
   "cell_type": "code",
   "execution_count": 11,
   "metadata": {},
   "outputs": [],
   "source": [
    "def new_cube():\n",
    "    state = np.zeros((9 * 6), dtype=np.int8)\n",
    "    for i in range(state.size):\n",
    "        state[i] = i / 9\n",
    "    return state\n",
    "\n",
    "def apply_move(state,move):\n",
    "    return state @ move\n",
    "\n",
    "def scramble(state: np.ndarray,count: int):\n",
    "    random = Random()\n",
    "    return state @ reduce(lambda a, b: a @ b, [random.choice(MOVES) for i in range(count)])"
   ]
  },
  {
   "cell_type": "markdown",
   "metadata": {},
   "source": [
    "# Machine Learning Setup\n"
   ]
  },
  {
   "cell_type": "markdown",
   "metadata": {},
   "source": [
    "## Converting State to Vector\n",
    "In order to make an accurate network, we will need to convert the cube's state array to a longer array to make it clearer to the network what color is where"
   ]
  },
  {
   "cell_type": "code",
   "execution_count": 12,
   "metadata": {},
   "outputs": [],
   "source": [
    "def state_to_vector(state):\n",
    "    vector = np.zeros((9 * 6 * 6,1),dtype=np.float32)\n",
    "    for i in range(9 * 6):\n",
    "        color = state[i]\n",
    "        vector[i * 6 + color] = 1\n",
    "    return vector.T\n",
    "        "
   ]
  },
  {
   "cell_type": "markdown",
   "metadata": {},
   "source": [
    "## The Neural Network\n",
    "\n",
    "**For starters:** The neural network will be a 1-layer neural network."
   ]
  },
  {
   "cell_type": "markdown",
   "metadata": {},
   "source": [
    "### The network as a variable\n",
    "In order to store different iterations for machine learning, we will store the network as a tuple with the variables in order from W1, b1, W2, b2, etc."
   ]
  },
  {
   "cell_type": "code",
   "execution_count": 13,
   "metadata": {},
   "outputs": [],
   "source": [
    "def random_network(sizes: list[int]) -> list[tuple[(tf.Variable,tf.Variable)]]:\n",
    "    values = []\n",
    "    for i in range(len(sizes)):\n",
    "        size = sizes[i]\n",
    "        prev_size = 9 * 6 * 6\n",
    "        if i > 0:\n",
    "            prev_size = sizes[i-1]\n",
    "        weights = tf.Variable(tf.random.normal([prev_size, size],stddev=0.03),name=f'W{i+1}')\n",
    "        constants = tf.Variable(tf.random.normal([size]),name=f'b{i+1}')\n",
    "        values.append((weights,constants))\n",
    "    return values\n",
    "\n",
    "\n",
    "def feed_network(state,network: list[tuple[(tf.Variable,tf.Variable)]]):\n",
    "    x = tf.cast(state,tf.float32)\n",
    "    for i in range(len(network)):\n",
    "        W, b = network[i]\n",
    "        if i > 0:\n",
    "            x = tf.nn.relu(x)\n",
    "        x = tf.add(tf.matmul(x,W),b)\n",
    "    return x\n",
    "\n",
    "def copy_network(network: list[tuple[(tf.Variable,tf.Variable)]]):\n",
    "    copy = []\n",
    "    for layer in network:\n",
    "        W,b = layer\n",
    "        copy.append((np.copy(W),np.copy(b)))\n",
    "    return copy"
   ]
  },
  {
   "cell_type": "code",
   "execution_count": 29,
   "metadata": {},
   "outputs": [
    {
     "name": "stdout",
     "output_type": "stream",
     "text": [
      "tf.Tensor(\n",
      "[[ 1.0293078  -0.16887757 -0.6320611   0.4589032   1.7971443  -1.757435\n",
      "  -0.19497235 -2.302253   -1.0742339  -2.2565904   1.0133637   1.6988068\n",
      "   0.09972991 -1.0760252   2.3466172  -0.2814953   0.3366325  -0.14630464]], shape=(1, 18), dtype=float32)\n"
     ]
    }
   ],
   "source": [
    "network = random_network([20,20,len(MOVES)])\n",
    "\n",
    "cube = scramble(new_cube(),1000)\n",
    "\n",
    "out = feed_network(state_to_vector(cube),network)\n",
    "print(out)"
   ]
  }
 ],
 "metadata": {
  "kernelspec": {
   "display_name": "Python 3.10.4 ('mlcube')",
   "language": "python",
   "name": "python3"
  },
  "language_info": {
   "codemirror_mode": {
    "name": "ipython",
    "version": 3
   },
   "file_extension": ".py",
   "mimetype": "text/x-python",
   "name": "python",
   "nbconvert_exporter": "python",
   "pygments_lexer": "ipython3",
   "version": "3.10.4"
  },
  "orig_nbformat": 4,
  "vscode": {
   "interpreter": {
    "hash": "7641580b910c9b01375a0fd9701e80f509c3f72b49a4ffa822590e7a07fce613"
   }
  }
 },
 "nbformat": 4,
 "nbformat_minor": 2
}
