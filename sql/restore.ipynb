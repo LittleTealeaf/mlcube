{
 "cells": [
  {
   "attachments": {},
   "cell_type": "markdown",
   "metadata": {},
   "source": [
    "# Restoring Old Data\n",
    "The goal of this notebook is to restore all old data (from a local copy) to the database for historical analysis of previous models. "
   ]
  },
  {
   "cell_type": "code",
   "execution_count": 1,
   "metadata": {},
   "outputs": [
    {
     "data": {
      "text/plain": [
       "True"
      ]
     },
     "execution_count": 1,
     "metadata": {},
     "output_type": "execute_result"
    }
   ],
   "source": [
    "from dotenv import load_dotenv\n",
    "load_dotenv()"
   ]
  },
  {
   "cell_type": "code",
   "execution_count": 2,
   "metadata": {},
   "outputs": [],
   "source": [
    "import json\n",
    "import os\n",
    "import pymssql"
   ]
  },
  {
   "cell_type": "code",
   "execution_count": 3,
   "metadata": {},
   "outputs": [],
   "source": [
    "from os import getenv\n",
    "\n",
    "connection = pymssql.connect(\n",
    "    host=getenv(\"SQL_HOST\"),\n",
    "    port=getenv(\"SQL_PORT\"),\n",
    "    user=getenv(\"SQL_USER\"),\n",
    "    password=getenv(\"SQL_PASSWORD\"),\n",
    "    database=getenv(\"SQL_DATABASE\"),\n",
    ")"
   ]
  },
  {
   "cell_type": "code",
   "execution_count": 4,
   "metadata": {},
   "outputs": [],
   "source": [
    "def load_historical_data(name, epochs):\n",
    "  '''\n",
    "  Epochs must be in the form:\n",
    "  [\n",
    "    {\n",
    "      'epoch': epoch,\n",
    "      'loss': loss,\n",
    "      'reward': reward\n",
    "    }\n",
    "  ]\n",
    "  '''\n",
    "  cursor = connection.cursor(as_dict=True)\n",
    "  cursor.execute(f'INSERT INTO Models (ModelName) OUTPUT Inserted.Modelid VALUES (\\'Historical: {name}\\')')\n",
    "  row = cursor.fetchone()\n",
    "  id = row['Modelid']\n",
    "\n",
    "  max_len = 500\n",
    "\n",
    "  for rows in [epochs[i * max_len: i * max_len + max_len] for i in range((len(epochs) // max_len) + 1)]:\n",
    "    if len(rows) > 0:\n",
    "      cursor.execute(f\"INSERT INTO Epochs (Modelid, Epoch, Loss, Reward) VALUES \" + \",\".join([\n",
    "        f'({id}, {row[\"epoch\"]}, {row[\"loss\"]}, {row[\"reward\"]})'\n",
    "        for row in rows\n",
    "      ]))\n",
    "\n",
    "\n",
    "  connection.commit()\n",
    "  cursor.close()"
   ]
  },
  {
   "cell_type": "code",
   "execution_count": 5,
   "metadata": {},
   "outputs": [],
   "source": [
    "def load_json(file):\n",
    "  with open(file) as f:\n",
    "    return json.load(f)"
   ]
  },
  {
   "cell_type": "code",
   "execution_count": 6,
   "metadata": {},
   "outputs": [],
   "source": [
    "base_path = '/mnt/f/Github/mlcube_archive/mlcube/agents'"
   ]
  },
  {
   "cell_type": "code",
   "execution_count": 7,
   "metadata": {},
   "outputs": [
    {
     "name": "stdout",
     "output_type": "stream",
     "text": [
      "Loading 1\n",
      "Loading 2\n",
      "Loading 3\n",
      "Loading 4\n",
      "Loading 5\n",
      "Loading 6\n",
      "Loading 7\n",
      "Loading 8\n",
      "Loading 9\n",
      "Loading 10\n",
      "Loading 11\n",
      "Loading 12\n",
      "Loading 13\n",
      "Loading 15\n",
      "Loading 16\n",
      "Loading A-1\n",
      "Loading A-2\n",
      "Loading A-3\n",
      "Loading agent-1\n",
      "Loading agent-2\n",
      "Loading B-1\n",
      "Loading B-2\n",
      "Loading B-3\n",
      "Loading B-4\n",
      "Loading B-5\n",
      "Loading main-1\n",
      "Loading main-2\n",
      "Loading main-3\n",
      "Loading main-4\n",
      "Loading main-5\n",
      "Loading main-6\n",
      "Loading relu-1\n",
      "Loading relu-2\n",
      "Loading trial-1\n"
     ]
    }
   ],
   "source": [
    "for name in ['1','2','3','4','5','6','7','8','9','10','11','12','13','15','16','A-1','A-2','A-3','agent-1','agent-2','B-1','B-2','B-3','B-4','B-5','main-1','main-2','main-3','main-4','main-5','main-6','relu-1','relu-2','trial-1']:\n",
    "  print(f'Loading {name}')\n",
    "  data = load_json(f'{base_path}/{name}/epochs.json')\n",
    "  load_historical_data(name, data)\n"
   ]
  }
 ],
 "metadata": {
  "kernelspec": {
   "display_name": "directml",
   "language": "python",
   "name": "python3"
  },
  "language_info": {
   "codemirror_mode": {
    "name": "ipython",
    "version": 3
   },
   "file_extension": ".py",
   "mimetype": "text/x-python",
   "name": "python",
   "nbconvert_exporter": "python",
   "pygments_lexer": "ipython3",
   "version": "3.10.6"
  },
  "orig_nbformat": 4,
  "vscode": {
   "interpreter": {
    "hash": "ef30f5887963562b2f40e3648720e631724a6ad3acdde206431574f5907bd447"
   }
  }
 },
 "nbformat": 4,
 "nbformat_minor": 2
}
